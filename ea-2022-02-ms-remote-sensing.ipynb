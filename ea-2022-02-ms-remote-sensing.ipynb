{
 "cells": [
  {
   "cell_type": "markdown",
   "metadata": {},
   "source": [
    "<img style=\"float: left;\" src=\"earth-lab-logo-rgb.png\" width=\"150\" height=\"150\" />\n",
    "\n",
    "# Earth Analytics Education - EA  Python Course Spring 2021"
   ]
  },
  {
   "cell_type": "markdown",
   "metadata": {},
   "source": [
    "## Important  - Assignment Guidelines\n",
    "\n",
    "1. Before you submit your assignment to GitHub, make sure to run the entire notebook with a fresh kernel. To do this first, **restart the kernel** (in the menubar, select Kernel$\\rightarrow$Restart & Run All)\n",
    "2. Always replace the `raise NotImplementedError()` code with your code that addresses the activity challenge. If you don't replace that code, your notebook will not run.\n",
    "\n",
    "```\n",
    "# YOUR CODE HERE\n",
    "raise NotImplementedError()\n",
    "```\n",
    "\n",
    "3. Any open ended questions will have a \"YOUR ANSWER HERE\" within a markdown cell. Replace that text with your answer also formatted using Markdown.\n",
    "4. **DO NOT RENAME THIS NOTEBOOK File!** If the file name changes, the autograder will not grade your assignment properly.\n",
    "6. When you create a figure, comment out `plt.show()` to ensure the autograder can grade your plots. For figure cells, DO NOT DELETE the code that says `DO NOT REMOVE LINE BELOW`.\n",
    "\n",
    "```\n",
    "### DO NOT REMOVE LINE BELOW ###\n",
    "student_plot1_ax = nb.convert_axes(plt)\n",
    "```\n",
    "\n",
    "* Only include the package imports, code, and outputs that are required to run your homework assignment.\n",
    "* Be sure that your code can be run on any operating system. This means that:\n",
    "   1. the data should be downloaded in the notebook to ensure it's reproducible\n",
    "   2. all paths should be created dynamically using the `os.path.join`\n",
    "\n",
    "## Follow to PEP 8 Syntax Guidelines & Documentation\n",
    "\n",
    "* Run the `autopep8` tool on all cells prior to submitting (HINT: hit shift + the tool to run it on all cells at once!\n",
    "* Use clear and expressive names for variables. \n",
    "* Organize your code to support readability.\n",
    "* Check for code line length\n",
    "* Use comments and white space sparingly where it is needed\n",
    "* Make sure all python imports are at the top of your notebook and follow PEP 8 order conventions\n",
    "* Spell check your Notebook before submitting it.\n",
    "\n",
    "For all of the plots below, be sure to do the following:\n",
    "\n",
    "* Make sure each plot has a clear TITLE and, where appropriate, label the x and y axes. Be sure to include UNITS in your labels.\n"
   ]
  },
  {
   "cell_type": "markdown",
   "metadata": {},
   "source": [
    "### Add Your Name Below \n",
    "**Your Name:**"
   ]
  },
  {
   "cell_type": "markdown",
   "metadata": {},
   "source": [
    "<img style=\"float: left;\" src=\"colored-bar.png\"/>"
   ]
  },
  {
   "cell_type": "markdown",
   "metadata": {},
   "source": [
    "---"
   ]
  },
  {
   "cell_type": "markdown",
   "metadata": {
    "deletable": false,
    "editable": false,
    "nbgrader": {
     "cell_type": "markdown",
     "checksum": "4eed4f3466632990967ea67fed913d0a",
     "grade": false,
     "grade_id": "hw-instructions",
     "locked": true,
     "schema_version": 3,
     "solution": false,
     "task": false
    },
    "tags": [
     "hide"
    ]
   },
   "source": [
    "# Assignment 2 - Introduction to Multispectral Remote Sensing Data\n",
    "\n",
    "For this assignment, you will work with NAIP and Landsat data taken before and after the 2016 Cold Springs Fire in Colorado. Be sure to [read the lessons\n",
    "which describe the file to support completing this assignment](https://www.earthdatascience.org/courses/use-data-open-source-python/data-stories/cold-springs-wildfire/). This chapter will help you\n",
    "understand the fire event which you are looking at data to quantify.\n",
    "\n",
    "The data that you will use for this week is available from **earthpy** using the following download: \n",
    "\n",
    "`et.data.get_data('cold-springs-fire')`\n",
    "\n",
    "The NAIP 2017 data can be downloaded online. But there are instructions to \n",
    "download it using earthpy if you run out of time.\n",
    "\n",
    "#### HINTS\n",
    "\n",
    "* You will need to reproject the fire boundary to get it to overlay properly on top of each remote sensing dataset above. \n",
    "* You can use `ax.text()` to add text to a matplotlib plot.\n",
    "`ax.text(.5, .05, \"Your Caption Here\" , ha='center')`"
   ]
  },
  {
   "cell_type": "markdown",
   "metadata": {
    "deletable": false,
    "editable": false,
    "nbgrader": {
     "cell_type": "markdown",
     "checksum": "d29222d0af47e8eea9fa6dfd33407f52",
     "grade": false,
     "grade_id": "bar-1",
     "locked": true,
     "schema_version": 3,
     "solution": false,
     "task": false
    }
   },
   "source": [
    "![Colored Bar](colored-bar.png)"
   ]
  },
  {
   "cell_type": "code",
   "execution_count": null,
   "metadata": {
    "deletable": false,
    "editable": false,
    "nbgrader": {
     "cell_type": "code",
     "checksum": "ea643ecb30b2cf69246f645c7eb5f94e",
     "grade": false,
     "grade_id": "core-imports",
     "locked": true,
     "schema_version": 3,
     "solution": false,
     "task": false
    }
   },
   "outputs": [],
   "source": [
    "# Autograding imports - do not modify this cell\n",
    "# import matplotcheck.base as mpc\n",
    "import matplotcheck.autograde as ag\n",
    "import matplotcheck.notebook as nb\n",
    "import matplotcheck.raster as rs\n",
    "import numpy as np"
   ]
  },
  {
   "cell_type": "code",
   "execution_count": null,
   "metadata": {
    "deletable": false,
    "extensions": {
     "jupyter_dashboards": {
      "version": 1,
      "views": {
       "grid_default": {},
       "report_default": {
        "hidden": true
       }
      }
     }
    },
    "nbgrader": {
     "cell_type": "code",
     "checksum": "996ed87baa5b0f37b77cee9d8a8e8369",
     "grade": true,
     "grade_id": "imports-answer",
     "locked": false,
     "points": 4,
     "schema_version": 3,
     "solution": true,
     "task": false
    },
    "tags": [
     "hide"
    ]
   },
   "outputs": [],
   "source": [
    "# Import needed packages in PEP 8 order (no unused imports listed) (4 points total)\n",
    "\n",
    "# YOUR CODE HERE\n",
    "raise NotImplementedError()"
   ]
  },
  {
   "cell_type": "code",
   "execution_count": null,
   "metadata": {
    "deletable": false,
    "editable": false,
    "nbgrader": {
     "cell_type": "code",
     "checksum": "e9e25a07342daf415ffce9d09572cc2b",
     "grade": true,
     "grade_id": "imports-tests",
     "locked": true,
     "points": 0,
     "schema_version": 3,
     "solution": false,
     "task": false
    }
   },
   "outputs": [],
   "source": [
    "# Tests that the working directory was set correctly, do not modify\n",
    "path = os.path.normpath(os.getcwd())\n",
    "student_wd_parts = path.split(os.sep)\n",
    "\n",
    "if student_wd_parts[-2:] == ['earth-analytics', 'data']:\n",
    "    print(\"\\u2705 Great - it looks like your working directory is set correctly to ~/earth-analytics/data\")\n",
    "else:\n",
    "    print(\"\\u274C Oops, the autograder will not run unless your working directory is set to earth-analytics/data\")\n",
    "\n",
    "# Tests for imports, do not modify\n",
    "try:\n",
    "    crs = rxr\n",
    "    print(\"\\u2705 Nice! rioxarray has been imported as a rxr!\")\n",
    "except NameError:\n",
    "    print(\"\\u274C rioxarray has not been imported as a rxr, please make sure to import is properly.\")\n",
    "\n",
    "try:\n",
    "    empty_array = xr\n",
    "    print(\"\\u2705 Score! xarray has been imported as a xr!\")\n",
    "except NameError:\n",
    "    print(\"\\u274C xarray has not been imported as a xr, please make sure to import is properly.\")\n"
   ]
  },
  {
   "cell_type": "markdown",
   "metadata": {
    "deletable": false,
    "editable": false,
    "extensions": {
     "jupyter_dashboards": {
      "version": 1,
      "views": {
       "grid_default": {},
       "report_default": {
        "hidden": false
       }
      }
     }
    },
    "nbgrader": {
     "cell_type": "markdown",
     "checksum": "65563e67e95408edb01a24f97a19eaf8",
     "grade": false,
     "grade_id": "naip-plots-instructions",
     "locked": true,
     "schema_version": 3,
     "solution": false,
     "task": false
    }
   },
   "source": [
    "# Figure 1: Plots 1 & 2 - RGB & CIR Images Using NAIP Data (10 points each, 5 points for data)\n",
    "\n",
    "### Download Post Fire NAIP data\n",
    "\n",
    "Using Earth Explorer, download NAIP data from 2017 (post fire). ([Review the lesson on downloading NAIP data](https://www.earthdatascience.org/courses/use-data-open-source-python/multispectral-remote-sensing/intro-naip/get-naip-data-earth-explorer/).)\n",
    "\n",
    "If all goes well, your file name should be: `m_3910505_nw_13_1_20170902.tif` where `20170902` represents the year month and day of the data. The first part of the file represents the area that the image covers.\n",
    "\n",
    "### Figure Instructions\n",
    "\n",
    "Crop the 2017 NAIP data to the spatial extent of the 2015 NAIP data using `rio.clip_box(bounds-object-here)`.  \n",
    "\n",
    "To use it:\n",
    "\n",
    "`naip_2017_clip = naip_2017.rio.clip_box(*naip_2015.rio.bounds())`\n",
    "\n",
    "\n",
    "\n",
    "Using the cropped 2017 NAIP data, create a figure with two subplots:\n",
    "1. RGB image of the study site using the post fire NAIP data. \n",
    "2. Color Infrared (CIR) image of the study site using the post fire NAIP data.\n",
    "\n",
    "Include the Cold Springs fire boundary on each subplot. \n",
    "\n",
    "### Hints \n",
    "\n",
    "* Make sure that you use the correct bands to create both images.\n",
    "    * In a CIR image, the:\n",
    "      * Infrared band will appear red.\n",
    "      * Red band will appear green.\n",
    "      * Green band will appear blue.\n",
    "* Title should include the date that the data were collected.\n",
    "\n",
    "### Necessary Data\n",
    "\n",
    "Use the following data to create these plots: \n",
    "* NAIP 2015: \n",
    "`cold-springs-fire/naip/m_3910505_nw_13_1_20150919/crop/m_3910505_nw_13_1_20150919_crop.tif`\n",
    "* NAIP 2017: \n",
    "Either use: use the data you download from EarthExplorer if you wish to learn how to get data from earth explorer. OR download the data using the code below. \n",
    "`et.data.get_data('cs-test-naip')`\n",
    "\n",
    "The tif file that you should open is located at the path below:\n",
    "`cs-test-naip/m_3910505_nw_13_1_20170902.tif`\n",
    "\n",
    "* Fire Boundary: \n",
    "`data/cold-springs-fire/vector_layers/fire-boundary-geomac/co_cold_springs_20160711_2200_dd83.shp`"
   ]
  },
  {
   "cell_type": "code",
   "execution_count": null,
   "metadata": {
    "deletable": false,
    "extensions": {
     "jupyter_dashboards": {
      "version": 1,
      "views": {
       "grid_default": {},
       "report_default": {
        "hidden": true
       }
      }
     }
    },
    "nbgrader": {
     "cell_type": "code",
     "checksum": "253a46423cfe9c1ed12112b1ae96d403",
     "grade": false,
     "grade_id": "naip-plots-data",
     "locked": false,
     "schema_version": 3,
     "solution": true,
     "task": false
    },
    "tags": [
     "hide"
    ]
   },
   "outputs": [],
   "source": [
    "# Open both NAIP datasets & reproject fire boundary vector data as needed\n",
    "\n",
    "# YOUR CODE HERE\n",
    "raise NotImplementedError()"
   ]
  },
  {
   "cell_type": "code",
   "execution_count": null,
   "metadata": {
    "deletable": false,
    "editable": false,
    "nbgrader": {
     "cell_type": "code",
     "checksum": "7044812f93811446345138febf746d2e",
     "grade": true,
     "grade_id": "naip-data-tests",
     "locked": true,
     "points": 5,
     "schema_version": 3,
     "solution": false,
     "task": false
    }
   },
   "outputs": [],
   "source": [
    "# Tests for your cropped Xarray\n",
    "\n",
    "student_cropped_xarray = _\n",
    "cropped_xarray_points = 0\n",
    "\n",
    "if isinstance(student_cropped_xarray, xr.DataArray):\n",
    "    print(\"\\u2705 Great job! Your data are stored in a DataArray!\")\n",
    "    cropped_xarray_points += 1\n",
    "else:\n",
    "    print(\"\\u274C Oops, the data are not stored in a DataArray.\")\n",
    "\n",
    "if np.allclose(student_cropped_xarray.rio.bounds(), (457163.0, 4424640.0, 461540.0, 4426952.0)):\n",
    "    cropped_xarray_points += 1\n",
    "    print(\"\\u2705 Data was cropped properly, good job!\")\n",
    "else:\n",
    "    print(\"\\u274C The data was not cropped properly.\")\n"
   ]
  },
  {
   "cell_type": "code",
   "execution_count": null,
   "metadata": {
    "caption": "Homework plots 1 & 2 RGB and CIR images using NAIP data from 2017.",
    "deletable": false,
    "extensions": {
     "jupyter_dashboards": {
      "version": 1,
      "views": {
       "grid_default": {},
       "report_default": {
        "hidden": false
       }
      }
     }
    },
    "nbgrader": {
     "cell_type": "code",
     "checksum": "d9dd41a0ecd9b17ea93f5c1b16984476",
     "grade": false,
     "grade_id": "naip-plots-answer",
     "locked": false,
     "schema_version": 3,
     "solution": true,
     "task": false
    },
    "tags": [
     "hide"
    ]
   },
   "outputs": [],
   "source": [
    "# Add plot code only for plots 1 and 2 here\n",
    "# IMPORTANT: name your axes: ax1, ax2\n",
    "\n",
    "# YOUR CODE HERE\n",
    "raise NotImplementedError()\n",
    "\n",
    "### DO NOT REMOVE LINES BELOW ###\n",
    "fig01_NAIP_fire_RGB_CIR = nb.convert_axes(plt, which_axes=\"all\")"
   ]
  },
  {
   "cell_type": "code",
   "execution_count": null,
   "metadata": {
    "deletable": false,
    "editable": false,
    "nbgrader": {
     "cell_type": "code",
     "checksum": "507a289592b0fcd1b08168db84b501ca",
     "grade": true,
     "grade_id": "naip-plots-hidden-tests-1",
     "locked": true,
     "points": 0,
     "schema_version": 3,
     "solution": false,
     "task": false
    }
   },
   "outputs": [],
   "source": [
    "# Test to ensure your plot object exists, do not modify this cell, and do not add a cell below this cell!\n",
    "\n",
    "try:\n",
    "    if len(fig01_NAIP_fire_RGB_CIR) == 2:\n",
    "        print(\"\\u2705 Your plot object was created and has 2 plots in it, yay!\")\n",
    "    else:\n",
    "        print(\"\\u274C Your plot object exists, but doesn't have two plots in it.\")\n",
    "except NameError:\n",
    "    print(\"\\u274C Your plot object doesn't exist, ensure you didn't remove the variable fig01_NAIP_fire_RGB_CIR above.\")\n"
   ]
  },
  {
   "cell_type": "code",
   "execution_count": null,
   "metadata": {
    "deletable": false,
    "editable": false,
    "nbgrader": {
     "cell_type": "code",
     "checksum": "fbaf111b8a7a99d47a3c6cb2355ed69c",
     "grade": true,
     "grade_id": "naip-plots-hidden-tests-2",
     "locked": true,
     "points": 20,
     "schema_version": 3,
     "solution": false,
     "task": false
    }
   },
   "outputs": [],
   "source": [
    "# Tests for figure 1 ax 1 (plot 1) - NAIP RGB plot\n",
    "# DO NOT REMOVE THIS CELL\n"
   ]
  },
  {
   "cell_type": "markdown",
   "metadata": {
    "deletable": false,
    "editable": false,
    "nbgrader": {
     "cell_type": "markdown",
     "checksum": "0ffcbbd28c471848f38b1c5cd0798e20",
     "grade": false,
     "grade_id": "naip-plot-written-question",
     "locked": true,
     "schema_version": 3,
     "solution": false,
     "task": false
    }
   },
   "source": [
    "## Question 1 (5 points)\n",
    "\n",
    "1. What does the CIR image highlight?\n",
    "2. Which band, and which the wavelengths contained in that band, allow a CIR image to highlight the thing that you identified above?\n",
    "\n",
    "Answer the questions in the Markdown cell below."
   ]
  },
  {
   "cell_type": "markdown",
   "metadata": {
    "deletable": false,
    "nbgrader": {
     "cell_type": "markdown",
     "checksum": "78b225e39904ac45be265ce22e79b9f1",
     "grade": true,
     "grade_id": "naip-plot-written-answer",
     "locked": false,
     "points": 5,
     "schema_version": 3,
     "solution": true,
     "task": false
    }
   },
   "source": [
    "YOUR ANSWER HERE"
   ]
  },
  {
   "cell_type": "markdown",
   "metadata": {
    "deletable": false,
    "editable": false,
    "extensions": {
     "jupyter_dashboards": {
      "version": 1,
      "views": {
       "grid_default": {},
       "report_default": {
        "hidden": false
       }
      }
     }
    },
    "nbgrader": {
     "cell_type": "markdown",
     "checksum": "5faa0997c33bb73e70eaccde354649de",
     "grade": false,
     "grade_id": "naip-ndvi-plot-question",
     "locked": true,
     "schema_version": 3,
     "solution": false,
     "task": false
    }
   },
   "source": [
    "# Figure 2, Plot 3: Create a Plot of the Difference NDVI Using NAIP Data from 2017 & 2015 (15 points)\n",
    "\n",
    "Calculate and plot the DIFFERENCE between NDVI in 2017 and 2015. To calculate difference, **subtract the pre-fire data from the post fire data (post - pre)** to ensure that negative values represent a decrease in NDVI between the two years. \n",
    "\n",
    "To complete this plot, you will need to:\n",
    "\n",
    "1. Use the 2017 NAIP data downloaded from Earth Explorer.\n",
    "2. Ensure that the 2017 NAIP data are CLIPPED to the 2015 data boundary so the extents are the same.\n",
    "\n",
    "Include the Cold Springs fire polygon boundary on your plot. \n",
    "\n",
    "### Hints\n",
    "\n",
    "* This difference calculation will only work if your numpy arrays have the same `.shape`.\n",
    "* You will need to coerce your 2017 data to be an integer by using `array.astype(int)` to avoid a division error.\n",
    "* Title should include the dates that the data were collected.\n",
    "\n",
    "### Necessary Data\n",
    "\n",
    "Use the following data to create this plot: \n",
    "* NAIP 2015: \n",
    "`cold-springs-fire/naip/m_3910505_nw_13_1_20150919/crop/m_3910505_nw_13_1_20150919_crop.tif`\n",
    "* NAIP 2017: Use the data you download from EarthExplorer\n",
    "* Fire Boundary: \n",
    "`data/cold-springs-fire/vector_layers/fire-boundary-geomac/co_cold_springs_20160711_2200_dd83.shp`"
   ]
  },
  {
   "cell_type": "code",
   "execution_count": null,
   "metadata": {
    "deletable": false,
    "extensions": {
     "jupyter_dashboards": {
      "version": 1,
      "views": {
       "grid_default": {},
       "report_default": {
        "hidden": true
       }
      }
     }
    },
    "nbgrader": {
     "cell_type": "code",
     "checksum": "64d39b84104b998d5a1258ece5b54928",
     "grade": false,
     "grade_id": "naip-ndvi-plot-data",
     "locked": false,
     "schema_version": 3,
     "solution": true,
     "task": false
    },
    "tags": [
     "hide"
    ]
   },
   "outputs": [],
   "source": [
    "# Calculate NDVI for 2015 and 2017 NAIP data\n",
    "# Calculate NDVI Difference between 2015 and 2017\n",
    "\n",
    "# YOUR CODE HERE\n",
    "raise NotImplementedError()"
   ]
  },
  {
   "cell_type": "code",
   "execution_count": null,
   "metadata": {
    "deletable": false,
    "nbgrader": {
     "cell_type": "code",
     "checksum": "3bde3714ca15e107603f1fe65be066b1",
     "grade": false,
     "grade_id": "naip-ndvi-plot-answer",
     "locked": false,
     "schema_version": 3,
     "solution": true,
     "task": false
    }
   },
   "outputs": [],
   "source": [
    "# Add your plot code for NDVI difference here\n",
    "# YOUR CODE HERE\n",
    "raise NotImplementedError()\n",
    "\n",
    "### DO NOT REMOVE LINE BELOW ###\n",
    "fig02_NAIP_NDVI_diff = nb.convert_axes(plt, which_axes=\"all\")"
   ]
  },
  {
   "cell_type": "code",
   "execution_count": null,
   "metadata": {
    "deletable": false,
    "editable": false,
    "nbgrader": {
     "cell_type": "code",
     "checksum": "1ecf13e1657b668b7eb489ae5784eeb5",
     "grade": true,
     "grade_id": "naip-ndvi-plot-tests-visible",
     "locked": true,
     "points": 0,
     "schema_version": 3,
     "solution": false,
     "task": false
    }
   },
   "outputs": [],
   "source": [
    "# Test to ensure your plot object exists, do not modify this cell, and do not add a cell below this cell!\n",
    "\n",
    "try:\n",
    "    if len(fig02_NAIP_NDVI_diff) >= 1:\n",
    "        print(\"\\u2705 Your plot object was created and has a plot in it, yay!\")\n",
    "    else:\n",
    "        print(\"\\u274C Your plot object exists, but doesn't have any plots in it.\")\n",
    "except NameError:\n",
    "    print(\"\\u274C Your plot object doesn't exist, ensure you didn't remove the variable fig02_NAIP_NDVI_diff above.\")"
   ]
  },
  {
   "cell_type": "code",
   "execution_count": null,
   "metadata": {
    "deletable": false,
    "editable": false,
    "nbgrader": {
     "cell_type": "code",
     "checksum": "2860f972b8f10a35aa26377e23ad6999",
     "grade": true,
     "grade_id": "naip-ndvi-plot-tests",
     "locked": true,
     "points": 15,
     "schema_version": 3,
     "solution": false,
     "task": false
    }
   },
   "outputs": [],
   "source": [
    "# Tests for figure 2 - NDVI values\n"
   ]
  },
  {
   "cell_type": "markdown",
   "metadata": {
    "deletable": false,
    "editable": false,
    "nbgrader": {
     "cell_type": "markdown",
     "checksum": "48f26077505c3ceb8caca825918519a5",
     "grade": false,
     "grade_id": "naip-ndvi-written-question",
     "locked": true,
     "schema_version": 3,
     "solution": false,
     "task": false
    }
   },
   "source": [
    "## Question 2 (4 points)\n",
    "\n",
    "1. Why are NDVI values trending towards -1 in the difference raster plotted above?\n",
    "\n",
    "Write 1-3 sentences in the Markdown cell below. "
   ]
  },
  {
   "cell_type": "markdown",
   "metadata": {
    "deletable": false,
    "nbgrader": {
     "cell_type": "markdown",
     "checksum": "af78a2908e47edcdd39fb561e68f0b96",
     "grade": true,
     "grade_id": "naip-ndvi-written-answre",
     "locked": false,
     "points": 4,
     "schema_version": 3,
     "solution": true,
     "task": false
    }
   },
   "source": [
    "YOUR ANSWER HERE"
   ]
  },
  {
   "cell_type": "markdown",
   "metadata": {
    "deletable": false,
    "editable": false,
    "extensions": {
     "jupyter_dashboards": {
      "version": 1,
      "views": {
       "grid_default": {},
       "report_default": {
        "hidden": false
       }
      }
     }
    },
    "nbgrader": {
     "cell_type": "markdown",
     "checksum": "d21e542ed1d5f3cd9d83458819e5bd2f",
     "grade": false,
     "grade_id": "landsat-plot-question",
     "locked": true,
     "schema_version": 3,
     "solution": false,
     "task": false
    }
   },
   "source": [
    "# Figure 3, Plots 4 & 5: RGB & CIR Images Using Pre-Fire Landsat Data (10 points each, 5 points for data)\n",
    "\n",
    "Create a figure with two subplots:\n",
    "\n",
    "1. RGB image of the study site using the pre-fire Landsat data. \n",
    "2. Color Infrared (CIR) image of the study site using the pre-fire Landsat data.\n",
    "\n",
    "Include the Cold Springs fire boundary on each subplot. \n",
    "\n",
    "### Hints\n",
    "\n",
    "* Plot the data using .plot.imshow()\n",
    "* Keep track of the CRS for all data layers as you create this plot. You may need to reproject the data!\n",
    "* Make sure that you use the correct bands to create both images.\n",
    "    * In a CIR image, the:\n",
    "        * Infrared band will appear red.\n",
    "        * Red band will appear green.\n",
    "        * Green band will appear blue.\n",
    "* Title should include the date that the data were collected.\n",
    "* When getting the needed files from `glob`, only get the bands you need (2-5).\n",
    "* When stacking data with `xr.concat`, make sure you stack on dimension (`dim`) **\"band\"**. Other names will break our tests\n",
    "\n",
    "### Necessary Data\n",
    "\n",
    "Use the following data to create these plots: \n",
    "\n",
    "* Landsat Pre-fire Data: \n",
    "`cold-springs-fire/landsat_collect/LC080340322016070701T1-SC20180214145604/crop/`"
   ]
  },
  {
   "cell_type": "code",
   "execution_count": null,
   "metadata": {
    "deletable": false,
    "extensions": {
     "jupyter_dashboards": {
      "version": 1,
      "views": {
       "grid_default": {},
       "report_default": {
        "hidden": true
       }
      }
     }
    },
    "nbgrader": {
     "cell_type": "code",
     "checksum": "c8cb6537089f6e0e5d9cce8c3f4975c1",
     "grade": false,
     "grade_id": "landsat-plot-data",
     "locked": false,
     "schema_version": 3,
     "solution": true,
     "task": false
    },
    "tags": [
     "hide"
    ]
   },
   "outputs": [],
   "source": [
    "# Import, stack landsat pre-fire data\n",
    "\n",
    "# YOUR CODE HERE\n",
    "raise NotImplementedError()"
   ]
  },
  {
   "cell_type": "code",
   "execution_count": null,
   "metadata": {
    "deletable": false,
    "editable": false,
    "nbgrader": {
     "cell_type": "code",
     "checksum": "7cffd4fff80a094bd0f5f3cb09f723f3",
     "grade": true,
     "grade_id": "landsat-plot-data-tests",
     "locked": true,
     "points": 5,
     "schema_version": 3,
     "solution": false,
     "task": false
    }
   },
   "outputs": [],
   "source": [
    "student_landsat_stacked = _\n",
    "landsat_stacked_points = 0\n",
    "\n",
    "if isinstance(student_landsat_stacked, xr.DataArray):\n",
    "    print(\"\\u2705 Great job! Your data are stored in a DataArray!\")\n",
    "    landsat_stacked_points += 1\n",
    "else:\n",
    "    print(\"\\u274C Oops, the data are not stored in a DataArray.\")\n",
    "\n",
    "if len(student_landsat_stacked) == 4:\n",
    "    landsat_stacked_points += 1\n",
    "    print(\"\\u2705 Data was has the correct number of bands in it, good job!\")\n",
    "else:\n",
    "    print(\"\\u274C The data does not have the correct number of bands in it. Make sure your glob is only grabbing bands 2-5.\")\n"
   ]
  },
  {
   "cell_type": "code",
   "execution_count": null,
   "metadata": {
    "caption": "Homework plots 4 & 5 RGB and CIR images using Landsat 8 pre-fire.",
    "deletable": false,
    "extensions": {
     "jupyter_dashboards": {
      "version": 1,
      "views": {
       "grid_default": {},
       "report_default": {
        "hidden": false
       }
      }
     }
    },
    "nbgrader": {
     "cell_type": "code",
     "checksum": "9618721abecf20159fca4f13aabf8bda",
     "grade": false,
     "grade_id": "landsat-plot-answer",
     "locked": false,
     "schema_version": 3,
     "solution": true,
     "task": false
    },
    "tags": [
     "hide"
    ]
   },
   "outputs": [],
   "source": [
    "# HW Figure 3: Plots 4 & 5 go here - Only add code to plot data\n",
    "\n",
    "# YOUR CODE HERE\n",
    "raise NotImplementedError()\n",
    "### DO NOT REMOVE LINE BELOW ###\n",
    "fig03_landsat_pre = nb.convert_axes(plt, which_axes=\"all\")"
   ]
  },
  {
   "cell_type": "code",
   "execution_count": null,
   "metadata": {
    "deletable": false,
    "editable": false,
    "nbgrader": {
     "cell_type": "code",
     "checksum": "6259487f7a05934abc97a7389d214ae3",
     "grade": true,
     "grade_id": "landsat-plot-tests-1",
     "locked": true,
     "points": 0,
     "schema_version": 3,
     "solution": false,
     "task": false
    }
   },
   "outputs": [],
   "source": [
    "# Test to ensure your plot object exists, do not modify this cell, and do not add a cell below this cell!\n",
    "\n",
    "try:\n",
    "    if len(fig03_landsat_pre) == 2:\n",
    "        print(\"\\u2705 Your plot object was created and has 2 plots in it, yay!\")\n",
    "    else:\n",
    "        print(\"\\u274C Your plot object exists, but doesn't have two plots in it.\")\n",
    "except NameError:\n",
    "    print(\"\\u274C Your plot object doesn't exist, ensure you didn't remove the variable fig03_landsat_pre above.\")\n"
   ]
  },
  {
   "cell_type": "code",
   "execution_count": null,
   "metadata": {
    "deletable": false,
    "editable": false,
    "nbgrader": {
     "cell_type": "code",
     "checksum": "4c3fe9a58092d8fb5fffeef3e664caa9",
     "grade": true,
     "grade_id": "landsat-plot-tests-2",
     "locked": true,
     "points": 20,
     "schema_version": 3,
     "solution": false,
     "task": false
    }
   },
   "outputs": [],
   "source": [
    "# Tests for figure 3 ax 1 (plot 1) - RGB values\n"
   ]
  },
  {
   "cell_type": "markdown",
   "metadata": {
    "deletable": false,
    "editable": false,
    "nbgrader": {
     "cell_type": "markdown",
     "checksum": "0ebd3305556ef27d24b588108f0e5d56",
     "grade": false,
     "grade_id": "landsat-plot-written-question",
     "locked": true,
     "schema_version": 3,
     "solution": false,
     "task": false
    }
   },
   "source": [
    "## Question 3 (3 points)\n",
    "\n",
    "1. List 3 differences between NAIP and Landsat data.\n",
    "\n",
    "Answer in the Markdown cell below."
   ]
  },
  {
   "cell_type": "markdown",
   "metadata": {
    "deletable": false,
    "nbgrader": {
     "cell_type": "markdown",
     "checksum": "55971947639086ae8fdfd8cd133c3284",
     "grade": true,
     "grade_id": "landsat-plot-written-answer",
     "locked": false,
     "points": 3,
     "schema_version": 3,
     "solution": true,
     "task": false
    }
   },
   "source": [
    "YOUR ANSWER HERE"
   ]
  },
  {
   "cell_type": "markdown",
   "metadata": {
    "deletable": false,
    "editable": false,
    "extensions": {
     "jupyter_dashboards": {
      "version": 1,
      "views": {
       "grid_default": {},
       "report_default": {
        "hidden": true
       }
      }
     }
    },
    "nbgrader": {
     "cell_type": "markdown",
     "checksum": "604ec27c519c5fe4c68f46b2d71ce4fb",
     "grade": false,
     "grade_id": "ndvi-landsat-question",
     "locked": true,
     "schema_version": 3,
     "solution": false,
     "task": false
    }
   },
   "source": [
    "# Figure 4, Plot 6: Calculate NDVI Using Pre-Fire Landsat Data (12 points)\n",
    "\n",
    "Create a map of NDVI before the Cold Springs fire using the pre-fire Landsat data.\n",
    "\n",
    "Include the Cold Springs fire boundary on your plot. \n",
    "\n",
    "### Hints\n",
    "\n",
    "* Be sure that you are using the correct bands to calculate NDVI with Landsat.\n",
    "* Title should include the date that the data were collected.\n",
    "\n",
    "### Necessary Data\n",
    "\n",
    "Use the following data to create these plots: \n",
    "\n",
    "* Landsat Pre-fire Data: \n",
    "`cold-springs-fire/landsat_collect/LC080340322016070701T1-SC20180214145604/crop/`"
   ]
  },
  {
   "cell_type": "code",
   "execution_count": null,
   "metadata": {
    "caption": "Homework plot  6 NDVI calculated from Landsat 8 pre-fire data.",
    "deletable": false,
    "extensions": {
     "jupyter_dashboards": {
      "version": 1,
      "views": {
       "grid_default": {},
       "report_default": {
        "hidden": false
       }
      }
     }
    },
    "nbgrader": {
     "cell_type": "code",
     "checksum": "37586aecd01f09f1bd4bee871ba30d80",
     "grade": false,
     "grade_id": "ndvi-landsat-data",
     "locked": false,
     "schema_version": 3,
     "solution": true,
     "task": false
    },
    "tags": [
     "hide"
    ]
   },
   "outputs": [],
   "source": [
    "# Calculate Landsat NDVI in this cell\n",
    "\n",
    "# YOUR CODE HERE\n",
    "raise NotImplementedError()"
   ]
  },
  {
   "cell_type": "code",
   "execution_count": null,
   "metadata": {
    "deletable": false,
    "nbgrader": {
     "cell_type": "code",
     "checksum": "a825b73ab9152b367564bb43a16434f5",
     "grade": false,
     "grade_id": "ndvi-landsat-answer",
     "locked": false,
     "schema_version": 3,
     "solution": true,
     "task": false
    }
   },
   "outputs": [],
   "source": [
    "# Add plot of Landsat NDVI here\n",
    "\n",
    "# YOUR CODE HERE\n",
    "raise NotImplementedError()\n",
    "\n",
    "### DO NOT REMOVE LINE BELOW ###\n",
    "fig04_landsat_ndvi = nb.convert_axes(plt, which_axes=\"all\")"
   ]
  },
  {
   "cell_type": "code",
   "execution_count": null,
   "metadata": {
    "deletable": false,
    "editable": false,
    "nbgrader": {
     "cell_type": "code",
     "checksum": "26d82536c29ac14eef8310211413bade",
     "grade": true,
     "grade_id": "ndvi-landsat-test-visible",
     "locked": true,
     "points": 0,
     "schema_version": 3,
     "solution": false,
     "task": false
    }
   },
   "outputs": [],
   "source": [
    "# Test to ensure your plot object exists, do not modify this cell, and do not add a cell below this cell!\n",
    "\n",
    "try:\n",
    "    if len(fig04_landsat_ndvi) >= 1:\n",
    "        print(\"\\u2705 Your plot object was created and has a plot in it, yay!\")\n",
    "    else:\n",
    "        print(\"\\u274C Your plot object exists, but doesn't have any plots in it.\")\n",
    "except NameError:\n",
    "    print(\"\\u274C Your plot object doesn't exist, ensure you didn't remove the variable fig04_landsat_ndvi above.\")"
   ]
  },
  {
   "cell_type": "code",
   "execution_count": null,
   "metadata": {
    "deletable": false,
    "editable": false,
    "nbgrader": {
     "cell_type": "code",
     "checksum": "a08ddb74d431301113e901b5799eeb58",
     "grade": true,
     "grade_id": "ndvi-landsat-test",
     "locked": true,
     "points": 12,
     "schema_version": 3,
     "solution": false,
     "task": false
    }
   },
   "outputs": [],
   "source": [
    "# Tests for Figure 4 - NDVI values\n"
   ]
  },
  {
   "cell_type": "code",
   "execution_count": null,
   "metadata": {
    "deletable": false,
    "nbgrader": {
     "cell_type": "code",
     "checksum": "fc6864c0d8d2f0810e320d05172315fa",
     "grade": false,
     "grade_id": "image-resolution-answer",
     "locked": false,
     "schema_version": 3,
     "solution": true,
     "task": false
    }
   },
   "outputs": [],
   "source": [
    "# In this cell, create two objects that are of type `integer`:\n",
    "# one object for the resolution of NAIP data (2 points)\n",
    "# one object for the resolution of Landsat data (using the metadata object) (2 points)\n",
    "\n",
    "# IMPORTANT: Name your objects: naip_res and landsat_res\n",
    "\n",
    "# YOUR CODE HERE\n",
    "raise NotImplementedError()"
   ]
  },
  {
   "cell_type": "code",
   "execution_count": null,
   "metadata": {
    "deletable": false,
    "editable": false,
    "nbgrader": {
     "cell_type": "code",
     "checksum": "d35883ec74c7e97bb83aef60685c6031",
     "grade": true,
     "grade_id": "image-resolution-tests",
     "locked": true,
     "points": 4,
     "schema_version": 3,
     "solution": false,
     "task": false
    }
   },
   "outputs": [],
   "source": []
  },
  {
   "cell_type": "markdown",
   "metadata": {
    "deletable": false,
    "editable": false,
    "nbgrader": {
     "cell_type": "markdown",
     "checksum": "15da96bd3ccd8f75c39ea20813769dce",
     "grade": false,
     "grade_id": "caption-with-ax",
     "locked": true,
     "points": 4,
     "schema_version": 3,
     "solution": false,
     "task": true
    }
   },
   "source": [
    "# Do not edit this cell! (4 points)\n",
    "\n",
    "* Each figure specifies the source of the data (for each plot) using a plot caption created with `ax.text()`."
   ]
  },
  {
   "cell_type": "markdown",
   "metadata": {
    "deletable": false,
    "editable": false,
    "nbgrader": {
     "cell_type": "markdown",
     "checksum": "939d6d68bd03044dc9a704a7ebcb57b1",
     "grade": false,
     "grade_id": "pep8-checks",
     "locked": true,
     "points": 9,
     "schema_version": 3,
     "solution": false,
     "task": true
    }
   },
   "source": [
    "# Do not edit this cell! (9 points)\n",
    "The notebook will also be checked for overall clean code requirements as specified at the **very top** of this notebook! Some of these requirements include (review the top cells for more specifics): \n",
    "\n",
    "* Notebook begins at cell [1] and runs on any machine in its entirety.\n",
    "* PEP 8 format is applied throughout (including lengths of comment and code lines).\n",
    "* No additional code or imports in the notebook\n",
    "* Notebook is fully reproducible. This means:\n",
    "   * reproducible paths using the os module.\n",
    "   * data downloaded using code in the notebook.\n",
    "   * all imports at top of notebook.\n",
    "   * CI (GitHub Actions) runs and passes the notebook run test."
   ]
  }
 ],
 "metadata": {
  "extensions": {
   "jupyter_dashboards": {
    "activeView": "report_default",
    "version": 1,
    "views": {
     "grid_default": {
      "name": "grid",
      "type": "grid"
     },
     "report_default": {
      "name": "report",
      "type": "report"
     }
    }
   }
  },
  "kernelspec": {
   "display_name": "Python 3 (ipykernel)",
   "language": "python",
   "name": "python3"
  },
  "language_info": {
   "codemirror_mode": {
    "name": "ipython",
    "version": 3
   },
   "file_extension": ".py",
   "mimetype": "text/x-python",
   "name": "python",
   "nbconvert_exporter": "python",
   "pygments_lexer": "ipython3",
   "version": "3.8.12"
  },
  "toc": {
   "base_numbering": 1,
   "nav_menu": {},
   "number_sections": true,
   "sideBar": true,
   "skip_h1_title": false,
   "title_cell": "Table of Contents",
   "title_sidebar": "Contents",
   "toc_cell": false,
   "toc_position": {},
   "toc_section_display": true,
   "toc_window_display": true
  },
  "varInspector": {
   "cols": {
    "lenName": 16,
    "lenType": 16,
    "lenVar": 40
   },
   "kernels_config": {
    "python": {
     "delete_cmd_postfix": "",
     "delete_cmd_prefix": "del ",
     "library": "var_list.py",
     "varRefreshCmd": "print(var_dic_list())"
    },
    "r": {
     "delete_cmd_postfix": ") ",
     "delete_cmd_prefix": "rm(",
     "library": "var_list.r",
     "varRefreshCmd": "cat(var_dic_list()) "
    }
   },
   "types_to_exclude": [
    "module",
    "function",
    "builtin_function_or_method",
    "instance",
    "_Feature"
   ],
   "window_display": false
  }
 },
 "nbformat": 4,
 "nbformat_minor": 2
}
